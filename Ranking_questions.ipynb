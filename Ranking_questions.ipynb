{
  "nbformat": 4,
  "nbformat_minor": 0,
  "metadata": {
    "colab": {
      "name": "Ranking_questions",
      "provenance": []
    },
    "kernelspec": {
      "display_name": "Python 3",
      "language": "python",
      "name": "python3"
    }
  },
  "cells": [
    {
      "cell_type": "code",
      "metadata": {
        "id": "JpiKBAmJ5a3b",
        "colab_type": "code",
        "colab": {}
      },
      "source": [
        "import gensim"
      ],
      "execution_count": 0,
      "outputs": []
    },
    {
      "cell_type": "code",
      "metadata": {
        "id": "1l2m-2pGIWJh",
        "colab_type": "code",
        "outputId": "8754c9ca-2510-4fd1-b8c2-82f6c2fb9c0e",
        "colab": {
          "base_uri": "https://localhost:8080/",
          "height": 124
        }
      },
      "source": [
        "from google.colab import drive\n",
        "drive.mount('/content/drive')"
      ],
      "execution_count": 0,
      "outputs": [
        {
          "output_type": "stream",
          "text": [
            "Go to this URL in a browser: https://accounts.google.com/o/oauth2/auth?client_id=947318989803-6bn6qk8qdgf4n4g3pfee6491hc0brc4i.apps.googleusercontent.com&redirect_uri=urn%3aietf%3awg%3aoauth%3a2.0%3aoob&response_type=code&scope=email%20https%3a%2f%2fwww.googleapis.com%2fauth%2fdocs.test%20https%3a%2f%2fwww.googleapis.com%2fauth%2fdrive%20https%3a%2f%2fwww.googleapis.com%2fauth%2fdrive.photos.readonly%20https%3a%2f%2fwww.googleapis.com%2fauth%2fpeopleapi.readonly\n",
            "\n",
            "Enter your authorization code:\n",
            "··········\n",
            "Mounted at /content/drive\n"
          ],
          "name": "stdout"
        }
      ]
    },
    {
      "cell_type": "markdown",
      "metadata": {
        "id": "-WXeHKu-POoL",
        "colab_type": "text"
      },
      "source": [
        "Загрузим предобученные векторные представления слов"
      ]
    },
    {
      "cell_type": "code",
      "metadata": {
        "id": "jndZv39SIgo0",
        "colab_type": "code",
        "outputId": "3f1a5e79-09c7-49d8-c1bc-4be714b2e930",
        "colab": {
          "base_uri": "https://localhost:8080/",
          "height": 208
        }
      },
      "source": [
        "! wget -c \"https://s3.amazonaws.com/dl4j-distribution/GoogleNews-vectors-negative300.bin.gz\""
      ],
      "execution_count": 0,
      "outputs": [
        {
          "output_type": "stream",
          "text": [
            "--2020-04-01 06:32:11--  https://s3.amazonaws.com/dl4j-distribution/GoogleNews-vectors-negative300.bin.gz\n",
            "Resolving s3.amazonaws.com (s3.amazonaws.com)... 52.217.0.150\n",
            "Connecting to s3.amazonaws.com (s3.amazonaws.com)|52.217.0.150|:443... connected.\n",
            "HTTP request sent, awaiting response... 200 OK\n",
            "Length: 1647046227 (1.5G) [application/x-gzip]\n",
            "Saving to: ‘GoogleNews-vectors-negative300.bin.gz’\n",
            "\n",
            "GoogleNews-vectors- 100%[===================>]   1.53G  16.7MB/s    in 97s     \n",
            "\n",
            "2020-04-01 06:33:48 (16.3 MB/s) - ‘GoogleNews-vectors-negative300.bin.gz’ saved [1647046227/1647046227]\n",
            "\n"
          ],
          "name": "stdout"
        }
      ]
    },
    {
      "cell_type": "code",
      "metadata": {
        "id": "hYd6edVv5a3h",
        "colab_type": "code",
        "outputId": "b0e8f994-2a0b-49dd-a3fa-e97df81dcaf0",
        "colab": {
          "base_uri": "https://localhost:8080/",
          "height": 72
        }
      },
      "source": [
        "wv_embeddings = gensim.models.KeyedVectors.load_word2vec_format(fname='/content/GoogleNews-vectors-negative300.bin.gz', limit=500000, binary=True)"
      ],
      "execution_count": 0,
      "outputs": [
        {
          "output_type": "stream",
          "text": [
            "/usr/local/lib/python3.6/dist-packages/smart_open/smart_open_lib.py:410: UserWarning: This function is deprecated, use smart_open.open instead. See the migration notes for details: https://github.com/RaRe-Technologies/smart_open/blob/master/README.rst#migrating-to-the-new-open-function\n",
            "  'See the migration notes for details: %s' % _MIGRATION_NOTES_URL\n"
          ],
          "name": "stderr"
        }
      ]
    },
    {
      "cell_type": "markdown",
      "metadata": {
        "id": "EOqphSRfPbUF",
        "colab_type": "text"
      },
      "source": [
        "Векторные представления текста: средний вектор всех слов в вопросе."
      ]
    },
    {
      "cell_type": "code",
      "metadata": {
        "id": "FuQ6bClV5a4B",
        "colab_type": "code",
        "colab": {}
      },
      "source": [
        "import numpy as np\n",
        "from nltk.tokenize import WordPunctTokenizer\n",
        "tokenizer = WordPunctTokenizer()"
      ],
      "execution_count": 0,
      "outputs": []
    },
    {
      "cell_type": "code",
      "metadata": {
        "id": "Dm02wjKS5a4K",
        "colab_type": "code",
        "colab": {}
      },
      "source": [
        "def question_to_vec(question, embeddings, dim=300):\n",
        "    \"\"\"\n",
        "        question: строка\n",
        "        embeddings: наше векторное представление\n",
        "        dim: размер любого вектора в нашем представлении\n",
        "        \n",
        "        return: векторное представление для вопроса\n",
        "    \"\"\"\n",
        "    \n",
        "    # убрать знак вопроса, если он есть\n",
        "    words = question.replace(\"?\", \"\")\n",
        "    n_known = 0\n",
        "    result = np.array([0] * dim, dtype=float)\n",
        "    \n",
        "    for word in words:\n",
        "        if word in embeddings:\n",
        "            result += embeddings[word]\n",
        "            n_known += 1\n",
        "            \n",
        "    if n_known != 0:\n",
        "        return result/n_known\n",
        "    else:\n",
        "        return result"
      ],
      "execution_count": 0,
      "outputs": []
    },
    {
      "cell_type": "markdown",
      "metadata": {
        "id": "lK7YcWpc5a5A",
        "colab_type": "text"
      },
      "source": [
        "### Ранжирование вопросов StackOverflow\n",
        "\n",
        "- *тестовая* выборка (test.tsv) содержит в каждой строке: *вопрос, похожий вопрос, отрицательный пример 1, отрицательный пример 2, ...*\n",
        "TEST!!!"
      ]
    },
    {
      "cell_type": "markdown",
      "metadata": {
        "id": "RqoQyKZ45a5B",
        "colab_type": "text"
      },
      "source": [
        "Считаем тестовую выборку "
      ]
    },
    {
      "cell_type": "code",
      "metadata": {
        "id": "Lsx8De1B5a5C",
        "colab_type": "code",
        "colab": {}
      },
      "source": [
        "def read_corpus(filename):\n",
        "    data = []\n",
        "    for line in open(filename, encoding='utf-8'):\n",
        "        data.append(line.strip().split('\\t'))\n",
        "    return data"
      ],
      "execution_count": 0,
      "outputs": []
    },
    {
      "cell_type": "code",
      "metadata": {
        "id": "IX_8qWD0yLW1",
        "colab_type": "code",
        "colab": {}
      },
      "source": [
        "# !wget -O test.tsv https://drive.google.com/open?id=12VAWjs-kvpgapurkuURus7E53F711uFV"
      ],
      "execution_count": 0,
      "outputs": []
    },
    {
      "cell_type": "code",
      "metadata": {
        "id": "h2fwUZTe5a5E",
        "colab_type": "code",
        "colab": {}
      },
      "source": [
        "test = read_corpus('/content/drive/My Drive/Stepik_Mipt/test.tsv')"
      ],
      "execution_count": 0,
      "outputs": []
    },
    {
      "cell_type": "code",
      "metadata": {
        "id": "97oA-Fqu5a5M",
        "colab_type": "code",
        "colab": {}
      },
      "source": [
        "from sklearn.metrics.pairwise import cosine_similarity\n",
        "from copy import deepcopy"
      ],
      "execution_count": 0,
      "outputs": []
    },
    {
      "cell_type": "code",
      "metadata": {
        "scrolled": true,
        "id": "ac0j8X3k5a5g",
        "colab_type": "code",
        "outputId": "b04eadef-7689-41e4-cc77-aab001021f40",
        "colab": {
          "base_uri": "https://localhost:8080/",
          "height": 52
        }
      },
      "source": [
        "import re\n",
        "import nltk\n",
        "import string\n",
        "nltk.download('stopwords')\n",
        "from nltk.corpus import stopwords"
      ],
      "execution_count": 0,
      "outputs": [
        {
          "output_type": "stream",
          "text": [
            "[nltk_data] Downloading package stopwords to /root/nltk_data...\n",
            "[nltk_data]   Unzipping corpora/stopwords.zip.\n"
          ],
          "name": "stdout"
        }
      ]
    },
    {
      "cell_type": "markdown",
      "metadata": {
        "id": "_1zawtBF5a5j",
        "colab_type": "text"
      },
      "source": [
        "Кол-во стоп стопслов"
      ]
    },
    {
      "cell_type": "code",
      "metadata": {
        "id": "57d9zCBG5a5k",
        "colab_type": "code",
        "outputId": "6521281a-b5be-4c31-85eb-d4e534b021cb",
        "colab": {
          "base_uri": "https://localhost:8080/",
          "height": 35
        }
      },
      "source": [
        "stopWords = set(stopwords.words('english'))\n",
        "len(stopWords)"
      ],
      "execution_count": 0,
      "outputs": [
        {
          "output_type": "execute_result",
          "data": {
            "text/plain": [
              "179"
            ]
          },
          "metadata": {
            "tags": []
          },
          "execution_count": 14
        }
      ]
    },
    {
      "cell_type": "code",
      "metadata": {
        "id": "IqraPyi85a5n",
        "colab_type": "code",
        "colab": {}
      },
      "source": [
        "def text_prepare(text):\n",
        "    \"\"\"\n",
        "        text: a string\n",
        "        \n",
        "        return: modified string\n",
        "    \"\"\"\n",
        "    # Переводим символы в нижний регистр\n",
        "    text = text.lower()\n",
        "    \n",
        "    # Заменяем символы пунктуации на пробелы\n",
        "    text = re.sub(r'[{}]'.format(string.punctuation), ' ', text)\n",
        "    \n",
        "    # Удаляем \"плохие\" символы\n",
        "    text = re.sub('[^A-Za-z0-9 ]', '', text)\n",
        "    \n",
        "    # Удаляем стопслова.\n",
        "    stopWords = set(stopwords.words('english'))\n",
        "    for stopWord in stopWords:\n",
        "        text = re.sub(r'\\b{}\\b'.format(stopWord), '', text)\n",
        "    return text"
      ],
      "execution_count": 0,
      "outputs": []
    },
    {
      "cell_type": "code",
      "metadata": {
        "id": "KLWHQx0N5a5p",
        "colab_type": "code",
        "colab": {}
      },
      "source": [
        "from tqdm import tqdm_notebook\n",
        "from copy import deepcopy\n",
        "new_test = deepcopy(test)\n",
        "for i in range(len(test)):\n",
        "    for j in range(len(test[i])):\n",
        "        new_test[i][j] = text_prepare(test[i][j])"
      ],
      "execution_count": 0,
      "outputs": []
    },
    {
      "cell_type": "markdown",
      "metadata": {
        "id": "8WP6SLiZ5a5x",
        "colab_type": "text"
      },
      "source": [
        "Функция, которая на основе косинусного растояния между векторами\n",
        " находит к вопросу ближайшие похожие.\n",
        "\n"
      ]
    },
    {
      "cell_type": "code",
      "metadata": {
        "id": "E8uL1K9Jqbcw",
        "colab_type": "code",
        "colab": {}
      },
      "source": [
        "# Flatten initial test (list of lists). UNIQUE Strings \n",
        "flatten_test_1 = sorted(set([item for sublist in test for item in sublist]), key=[item for sublist in test for item in sublist].index)"
      ],
      "execution_count": 0,
      "outputs": []
    },
    {
      "cell_type": "code",
      "metadata": {
        "id": "UPxGarJhqRAK",
        "colab_type": "code",
        "colab": {}
      },
      "source": [
        "def find_closest_questions_test(question, k=5):\n",
        "    \"\"\"\n",
        "    function that finds closest questions from dataset given question\n",
        "    args:\n",
        "        question: question, preprocessed using text_prepare \n",
        "        k: how many nearest questions to find\n",
        "    \"\"\"\n",
        "\n",
        "    dist_s = []\n",
        "    vec_question = question_to_vec(question=question, embeddings=wv_embeddings, dim=300)\n",
        "    \n",
        "    questions =  sorted(set([item for sublist in new_test for item in sublist]), key=[item for sublist in new_test for item in sublist].index) \n",
        "\n",
        "    vec_questions = np.array([question_to_vec(question=questions[i], embeddings=wv_embeddings, dim=300)\n",
        "                      for i in range(len(questions))])\n",
        "    dist_s = cosine_similarity(vec_questions, np.array([vec_question]))[:, 0]\n",
        " \n",
        "        \n",
        "    # Sort dist_s first five values\n",
        "    sorted_dist_s = sorted(dist_s)[:k] # [::-1][:k]\n",
        "    # Get indexes of sorted_dist_s\n",
        "    idx_sorted_dists_s = dist_s.argsort()\n",
        "    \n",
        "    # get questions by indexes \n",
        "    sorted_questions = np.array(flatten_test_1)[idx_sorted_dists_s.tolist()]\n",
        "    # print(max(idx_sorted_dists_s))\n",
        "    sorted_dict = list(zip(sorted_questions[:k], sorted_dist_s))\n",
        "    return sorted_dict\n",
        "    \n"
      ],
      "execution_count": 0,
      "outputs": []
    },
    {
      "cell_type": "code",
      "metadata": {
        "id": "cuJWCjopqm9X",
        "colab_type": "code",
        "outputId": "4d08ce63-3341-4823-944d-315b96e5e2f0",
        "colab": {
          "base_uri": "https://localhost:8080/",
          "height": 139
        }
      },
      "source": [
        "find_closest_questions_test(text_prepare(\"Why am I so stupid?\"))"
      ],
      "execution_count": 0,
      "outputs": [
        {
          "output_type": "stream",
          "text": [
            "35411 35411\n"
          ],
          "name": "stdout"
        },
        {
          "output_type": "execute_result",
          "data": {
            "text/plain": [
              "[('why is 1.2 * 30 = 35?', 0.28602382144890576),\n",
              " (\"Why is ' 2' > '10'?\", 0.33366496621354574),\n",
              " ('Why is (18446744073709551615 == -1) true?', 0.38654803470784777),\n",
              " ('Why does 6.00 + (plus) 5.00 = \"5.006.00\"?', 0.48149845925095597),\n",
              " (\"How to change '1.123.456.789' to '1.123.456,789' in python3?\",\n",
              "  0.5329101084272192)]"
            ]
          },
          "metadata": {
            "tags": []
          },
          "execution_count": 129
        }
      ]
    },
    {
      "cell_type": "code",
      "metadata": {
        "id": "_6a_AVpmqoVp",
        "colab_type": "code",
        "colab": {}
      },
      "source": [
        ""
      ],
      "execution_count": 0,
      "outputs": []
    }
  ]
}